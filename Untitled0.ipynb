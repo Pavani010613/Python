{
  "nbformat": 4,
  "nbformat_minor": 0,
  "metadata": {
    "colab": {
      "provenance": [],
      "authorship_tag": "ABX9TyO0jsdmmvgr/WbUhTUOBMyo",
      "include_colab_link": true
    },
    "kernelspec": {
      "name": "python3",
      "display_name": "Python 3"
    },
    "language_info": {
      "name": "python"
    }
  },
  "cells": [
    {
      "cell_type": "markdown",
      "metadata": {
        "id": "view-in-github",
        "colab_type": "text"
      },
      "source": [
        "<a href=\"https://colab.research.google.com/github/Pavani010613/Python/blob/main/Untitled0.ipynb\" target=\"_parent\"><img src=\"https://colab.research.google.com/assets/colab-badge.svg\" alt=\"Open In Colab\"/></a>"
      ]
    },
    {
      "cell_type": "code",
      "execution_count": 2,
      "metadata": {
        "id": "D7-Srw6xiSTP",
        "colab": {
          "base_uri": "https://localhost:8080/"
        },
        "outputId": "50304bca-651f-4c94-b2f1-eb9dbabff46b"
      },
      "outputs": [
        {
          "output_type": "stream",
          "name": "stdout",
          "text": [
            "0\n",
            "1\n",
            "2\n",
            "3\n",
            "4\n",
            "5\n",
            "6\n",
            "7\n",
            "8\n",
            "9\n"
          ]
        }
      ],
      "source": [
        "i=0\n",
        "while i<10:\n",
        "  print(i)\n",
        "  i=i+1"
      ]
    },
    {
      "cell_type": "code",
      "source": [
        "i=0\n",
        "while i<10:\n",
        "  print(i)\n",
        "  i=i+1\n",
        "  print(Good Job Pavani)"
      ],
      "metadata": {
        "colab": {
          "base_uri": "https://localhost:8080/",
          "height": 130
        },
        "id": "YJkkNw_LncGs",
        "outputId": "e06a8759-dede-4c44-e251-063cb2a3d966"
      },
      "execution_count": 4,
      "outputs": [
        {
          "output_type": "error",
          "ename": "SyntaxError",
          "evalue": "ignored",
          "traceback": [
            "\u001b[0;36m  File \u001b[0;32m\"<ipython-input-4-42fd2e000f47>\"\u001b[0;36m, line \u001b[0;32m5\u001b[0m\n\u001b[0;31m    print(Good Job Pavani)\u001b[0m\n\u001b[0m               ^\u001b[0m\n\u001b[0;31mSyntaxError\u001b[0m\u001b[0;31m:\u001b[0m invalid syntax\n"
          ]
        }
      ]
    },
    {
      "cell_type": "code",
      "source": [
        "i=0\n",
        "while i<10:\n",
        "  print(i)\n",
        "  i=i+1\n",
        "print(Good Job Pavani)"
      ],
      "metadata": {
        "colab": {
          "base_uri": "https://localhost:8080/",
          "height": 130
        },
        "id": "U4nSzceSnru-",
        "outputId": "63c88915-2925-4edc-faa6-156278c9c91a"
      },
      "execution_count": 7,
      "outputs": [
        {
          "output_type": "error",
          "ename": "SyntaxError",
          "evalue": "ignored",
          "traceback": [
            "\u001b[0;36m  File \u001b[0;32m\"<ipython-input-7-93ac01c7aaf7>\"\u001b[0;36m, line \u001b[0;32m5\u001b[0m\n\u001b[0;31m    print(Good Job Pavani)\u001b[0m\n\u001b[0m               ^\u001b[0m\n\u001b[0;31mSyntaxError\u001b[0m\u001b[0;31m:\u001b[0m invalid syntax\n"
          ]
        }
      ]
    },
    {
      "cell_type": "code",
      "source": [
        "i=0\n",
        "while i<10:\n",
        "  print(i)\n",
        "  i=i+1\n",
        "  print(\"Good Job Pavani\")"
      ],
      "metadata": {
        "colab": {
          "base_uri": "https://localhost:8080/"
        },
        "id": "669w92TMn6BD",
        "outputId": "5e7e06d8-e15d-4340-e169-7a33d74ebef4"
      },
      "execution_count": 9,
      "outputs": [
        {
          "output_type": "stream",
          "name": "stdout",
          "text": [
            "0\n",
            "Good Job Pavani\n",
            "1\n",
            "Good Job Pavani\n",
            "2\n",
            "Good Job Pavani\n",
            "3\n",
            "Good Job Pavani\n",
            "4\n",
            "Good Job Pavani\n",
            "5\n",
            "Good Job Pavani\n",
            "6\n",
            "Good Job Pavani\n",
            "7\n",
            "Good Job Pavani\n",
            "8\n",
            "Good Job Pavani\n",
            "9\n",
            "Good Job Pavani\n"
          ]
        }
      ]
    },
    {
      "cell_type": "code",
      "source": [
        "i=0\n",
        "while i<10:\n",
        "  print(i)\n",
        "  i=i+1\n",
        "print(\"Good Job Pavani\")"
      ],
      "metadata": {
        "colab": {
          "base_uri": "https://localhost:8080/"
        },
        "id": "AI66FzMJoBN-",
        "outputId": "ac5949ee-6e44-4fde-8539-2fd71c52a1b4"
      },
      "execution_count": 12,
      "outputs": [
        {
          "output_type": "stream",
          "name": "stdout",
          "text": [
            "0\n",
            "1\n",
            "2\n",
            "3\n",
            "4\n",
            "5\n",
            "6\n",
            "7\n",
            "8\n",
            "9\n",
            "Good Job Pavani\n"
          ]
        }
      ]
    },
    {
      "cell_type": "code",
      "source": [
        "list(range(10))"
      ],
      "metadata": {
        "colab": {
          "base_uri": "https://localhost:8080/"
        },
        "id": "peQvXL1Fp-vY",
        "outputId": "0172bba0-2ab4-46e9-d8fd-7615114d5985"
      },
      "execution_count": 14,
      "outputs": [
        {
          "output_type": "execute_result",
          "data": {
            "text/plain": [
              "[0, 1, 2, 3, 4, 5, 6, 7, 8, 9]"
            ]
          },
          "metadata": {},
          "execution_count": 14
        }
      ]
    },
    {
      "cell_type": "code",
      "source": [
        "for i in range(10):\n",
        "  print(i)"
      ],
      "metadata": {
        "colab": {
          "base_uri": "https://localhost:8080/"
        },
        "id": "LYCkaW-lqEr9",
        "outputId": "1a28e39d-88b9-488a-85bf-4d2315dfa0ed"
      },
      "execution_count": 16,
      "outputs": [
        {
          "output_type": "stream",
          "name": "stdout",
          "text": [
            "0\n",
            "1\n",
            "2\n",
            "3\n",
            "4\n",
            "5\n",
            "6\n",
            "7\n",
            "8\n",
            "9\n"
          ]
        }
      ]
    },
    {
      "cell_type": "code",
      "source": [
        "list1 =[\"Pavani\", 9, True]\n",
        "for i in list1:\n",
        "  print(i)"
      ],
      "metadata": {
        "colab": {
          "base_uri": "https://localhost:8080/"
        },
        "id": "qMRZt-7Aq2bO",
        "outputId": "a98f9d3b-8bb5-4bf1-d4fd-126d0a3576f5"
      },
      "execution_count": 20,
      "outputs": [
        {
          "output_type": "stream",
          "name": "stdout",
          "text": [
            "Pavani\n",
            "9\n",
            "True\n"
          ]
        }
      ]
    },
    {
      "cell_type": "code",
      "source": [
        "import numpy as np\n",
        "from numpy.random import randn"
      ],
      "metadata": {
        "id": "c5tUbauqr0uK"
      },
      "execution_count": 22,
      "outputs": []
    },
    {
      "cell_type": "code",
      "source": [
        "x= randn()\n",
        "x"
      ],
      "metadata": {
        "colab": {
          "base_uri": "https://localhost:8080/"
        },
        "id": "39OBDj0Escbn",
        "outputId": "1cd0b8ba-75a8-4c46-dfa9-60a0cdd2a0ec"
      },
      "execution_count": 24,
      "outputs": [
        {
          "output_type": "execute_result",
          "data": {
            "text/plain": [
              "0.7971346752085187"
            ]
          },
          "metadata": {},
          "execution_count": 24
        }
      ]
    },
    {
      "cell_type": "code",
      "source": [
        "x=randn()\n",
        "if x>1:\n",
        "  result = \"greater than 1\"\n",
        "print(x)\n",
        "print(result)"
      ],
      "metadata": {
        "colab": {
          "base_uri": "https://localhost:8080/"
        },
        "id": "k9rpq09XtQzk",
        "outputId": "0d97726a-191d-44c9-a03a-b8d6e1547d46"
      },
      "execution_count": 27,
      "outputs": [
        {
          "output_type": "stream",
          "name": "stdout",
          "text": [
            "1.4612961368727628\n",
            "greater than 1\n"
          ]
        }
      ]
    },
    {
      "cell_type": "code",
      "source": [
        "result = None\n",
        "x = randn()\n",
        "if x>1 :\n",
        "  result = \"greater than 1\"\n",
        "else :\n",
        "  result = \"less than 1\"\n",
        "print(x)\n",
        "print(result)"
      ],
      "metadata": {
        "colab": {
          "base_uri": "https://localhost:8080/"
        },
        "id": "B_q3H3rfuciL",
        "outputId": "7e5b6751-92dc-43b5-eba5-79922bb4af9e"
      },
      "execution_count": 33,
      "outputs": [
        {
          "output_type": "stream",
          "name": "stdout",
          "text": [
            "-0.23030611380610744\n",
            "less than 1\n"
          ]
        }
      ]
    },
    {
      "cell_type": "code",
      "source": [
        "result = None\n",
        "x = randn()\n",
        "if x>1 :\n",
        "  result = \"greater than 1\"\n",
        "elif x>=-1 :\n",
        "  result = \"Between -1 and 1\"\n",
        "else :\n",
        "  result = \"less than 1\"\n",
        "print(x)\n",
        "print(result)"
      ],
      "metadata": {
        "colab": {
          "base_uri": "https://localhost:8080/"
        },
        "id": "MOdIrHihwdhH",
        "outputId": "d51357d5-01c7-4d52-c0b3-422994142b63"
      },
      "execution_count": 37,
      "outputs": [
        {
          "output_type": "stream",
          "name": "stdout",
          "text": [
            "0.41008990538751755\n",
            "Between -1 and 1\n"
          ]
        }
      ]
    },
    {
      "cell_type": "code",
      "source": [
        "result = None\n",
        "x = randn()\n",
        "if x>1 :\n",
        "  result = \"greater than 1\"\n",
        "elif x>=-1 :\n",
        "  result = \"Between -1 and 1\"\n",
        "else :\n",
        "  result = \"Less than 1\"\n",
        "  print(\"Python Wrold\")\n",
        "  print(x)\n",
        "  print(result)"
      ],
      "metadata": {
        "colab": {
          "base_uri": "https://localhost:8080/"
        },
        "id": "Csp6TgrayQSr",
        "outputId": "e34c885c-ddf7-4f10-b9e7-efc7b02f6d3e"
      },
      "execution_count": 39,
      "outputs": [
        {
          "output_type": "stream",
          "name": "stdout",
          "text": [
            "Python Wrold\n",
            "-1.7875796811767515\n",
            "Less than 1\n"
          ]
        }
      ]
    },
    {
      "cell_type": "code",
      "source": [
        "result = None\n",
        "x = randn()\n",
        "if x>1 :\n",
        "  result = \"greater than 1\"\n",
        "elif x>=-1 :\n",
        "  result = \"Between -1 and 1\"\n",
        "else :\n",
        "  result = \"Less than 1\"\n",
        "print(\"Python Wrold\")\n",
        "  print(x)\n",
        "  print(result)"
      ],
      "metadata": {
        "colab": {
          "base_uri": "https://localhost:8080/",
          "height": 130
        },
        "id": "Hx5JRKSwyyRf",
        "outputId": "e3de099f-4768-4338-f622-0021cdc40d6c"
      },
      "execution_count": 40,
      "outputs": [
        {
          "output_type": "error",
          "ename": "IndentationError",
          "evalue": "ignored",
          "traceback": [
            "\u001b[0;36m  File \u001b[0;32m\"<ipython-input-40-421c52639908>\"\u001b[0;36m, line \u001b[0;32m10\u001b[0m\n\u001b[0;31m    print(x)\u001b[0m\n\u001b[0m    ^\u001b[0m\n\u001b[0;31mIndentationError\u001b[0m\u001b[0;31m:\u001b[0m unexpected indent\n"
          ]
        }
      ]
    },
    {
      "cell_type": "code",
      "source": [],
      "metadata": {
        "id": "E64U51JKy27t"
      },
      "execution_count": null,
      "outputs": []
    }
  ]
}